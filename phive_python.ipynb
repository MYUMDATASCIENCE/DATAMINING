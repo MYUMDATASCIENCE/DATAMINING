{
 "cells": [
  {
   "cell_type": "markdown",
   "metadata": {},
   "source": [
    "<H2>MILESTONE 3 - Accessing Hive Data Warehouse using Python  </H2>\n",
    "<H4>NAME : ZAIMIE AZMIN BIN ZAINUL ABIDIN</H4>\n",
    "<H4>MATRIX : 17202336 / WQD190018</H4>"
   ]
  },
  {
   "cell_type": "code",
   "execution_count": 8,
   "metadata": {},
   "outputs": [
    {
     "data": {
      "text/html": [
       "<div>\n",
       "<style scoped>\n",
       "    .dataframe tbody tr th:only-of-type {\n",
       "        vertical-align: middle;\n",
       "    }\n",
       "\n",
       "    .dataframe tbody tr th {\n",
       "        vertical-align: top;\n",
       "    }\n",
       "\n",
       "    .dataframe thead th {\n",
       "        text-align: right;\n",
       "    }\n",
       "</style>\n",
       "<table border=\"1\" class=\"dataframe\">\n",
       "  <thead>\n",
       "    <tr style=\"text-align: right;\">\n",
       "      <th></th>\n",
       "      <th>crudeoilbrent.dateprice</th>\n",
       "      <th>crudeoilbrent.closingprice</th>\n",
       "      <th>crudeoilbrent.openprice</th>\n",
       "      <th>crudeoilbrent.dailyhigh</th>\n",
       "      <th>crudeoilbrent.dailylow</th>\n",
       "    </tr>\n",
       "  </thead>\n",
       "  <tbody>\n",
       "    <tr>\n",
       "      <th>0</th>\n",
       "      <td>3/11/2020</td>\n",
       "      <td>35.79</td>\n",
       "      <td>37.27</td>\n",
       "      <td>39.70</td>\n",
       "      <td>35.35</td>\n",
       "    </tr>\n",
       "    <tr>\n",
       "      <th>1</th>\n",
       "      <td>3/10/2020</td>\n",
       "      <td>37.22</td>\n",
       "      <td>35.84</td>\n",
       "      <td>38.22</td>\n",
       "      <td>35.00</td>\n",
       "    </tr>\n",
       "    <tr>\n",
       "      <th>2</th>\n",
       "      <td>3/9/2020</td>\n",
       "      <td>34.36</td>\n",
       "      <td>38.28</td>\n",
       "      <td>38.34</td>\n",
       "      <td>31.02</td>\n",
       "    </tr>\n",
       "    <tr>\n",
       "      <th>3</th>\n",
       "      <td>3/6/2020</td>\n",
       "      <td>45.27</td>\n",
       "      <td>50.25</td>\n",
       "      <td>50.45</td>\n",
       "      <td>45.18</td>\n",
       "    </tr>\n",
       "    <tr>\n",
       "      <th>4</th>\n",
       "      <td>3/5/2020</td>\n",
       "      <td>49.99</td>\n",
       "      <td>51.66</td>\n",
       "      <td>52.04</td>\n",
       "      <td>49.70</td>\n",
       "    </tr>\n",
       "  </tbody>\n",
       "</table>\n",
       "</div>"
      ],
      "text/plain": [
       "  crudeoilbrent.dateprice  crudeoilbrent.closingprice  \\\n",
       "0               3/11/2020                       35.79   \n",
       "1               3/10/2020                       37.22   \n",
       "2                3/9/2020                       34.36   \n",
       "3                3/6/2020                       45.27   \n",
       "4                3/5/2020                       49.99   \n",
       "\n",
       "   crudeoilbrent.openprice  crudeoilbrent.dailyhigh  crudeoilbrent.dailylow  \n",
       "0                    37.27                    39.70                   35.35  \n",
       "1                    35.84                    38.22                   35.00  \n",
       "2                    38.28                    38.34                   31.02  \n",
       "3                    50.25                    50.45                   45.18  \n",
       "4                    51.66                    52.04                   49.70  "
      ]
     },
     "execution_count": 8,
     "metadata": {},
     "output_type": "execute_result"
    }
   ],
   "source": [
    "#from pyhive import hive\n",
    "import pandas as pd\n",
    "from pyhive import hive\n",
    "\n",
    "#Create Hive connection\n",
    "conn = hive.Connection(host=\"192.168.0.106\", port=10000)\n",
    "\n",
    "# Read Hive table and Create pandas dataframe\n",
    "df = pd.read_sql(\"SELECT * FROM default.crudeoilbrent\", conn)\n",
    "\n",
    "df.head()"
   ]
  },
  {
   "cell_type": "code",
   "execution_count": 9,
   "metadata": {},
   "outputs": [
    {
     "name": "stdout",
     "output_type": "stream",
     "text": [
      "<class 'pandas.core.frame.DataFrame'>\n",
      "RangeIndex: 3675 entries, 0 to 3674\n",
      "Data columns (total 5 columns):\n",
      "crudeoilbrent.dateprice       3675 non-null object\n",
      "crudeoilbrent.closingprice    3675 non-null float64\n",
      "crudeoilbrent.openprice       3626 non-null float64\n",
      "crudeoilbrent.dailyhigh       3647 non-null float64\n",
      "crudeoilbrent.dailylow        3645 non-null float64\n",
      "dtypes: float64(4), object(1)\n",
      "memory usage: 143.6+ KB\n"
     ]
    }
   ],
   "source": [
    "df.info()"
   ]
  },
  {
   "cell_type": "code",
   "execution_count": 10,
   "metadata": {},
   "outputs": [
    {
     "data": {
      "text/plain": [
       "(3675, 5)"
      ]
     },
     "execution_count": 10,
     "metadata": {},
     "output_type": "execute_result"
    }
   ],
   "source": [
    "df.shape"
   ]
  },
  {
   "cell_type": "code",
   "execution_count": 11,
   "metadata": {},
   "outputs": [
    {
     "data": {
      "text/html": [
       "<div>\n",
       "<style scoped>\n",
       "    .dataframe tbody tr th:only-of-type {\n",
       "        vertical-align: middle;\n",
       "    }\n",
       "\n",
       "    .dataframe tbody tr th {\n",
       "        vertical-align: top;\n",
       "    }\n",
       "\n",
       "    .dataframe thead th {\n",
       "        text-align: right;\n",
       "    }\n",
       "</style>\n",
       "<table border=\"1\" class=\"dataframe\">\n",
       "  <thead>\n",
       "    <tr style=\"text-align: right;\">\n",
       "      <th></th>\n",
       "      <th>crudeoilbrent.closingprice</th>\n",
       "      <th>crudeoilbrent.openprice</th>\n",
       "      <th>crudeoilbrent.dailyhigh</th>\n",
       "      <th>crudeoilbrent.dailylow</th>\n",
       "    </tr>\n",
       "  </thead>\n",
       "  <tbody>\n",
       "    <tr>\n",
       "      <th>count</th>\n",
       "      <td>3675.000000</td>\n",
       "      <td>3626.000000</td>\n",
       "      <td>3647.000000</td>\n",
       "      <td>3645.000000</td>\n",
       "    </tr>\n",
       "    <tr>\n",
       "      <th>mean</th>\n",
       "      <td>78.408506</td>\n",
       "      <td>78.281627</td>\n",
       "      <td>79.315898</td>\n",
       "      <td>77.422038</td>\n",
       "    </tr>\n",
       "    <tr>\n",
       "      <th>std</th>\n",
       "      <td>24.637651</td>\n",
       "      <td>24.591547</td>\n",
       "      <td>24.746238</td>\n",
       "      <td>24.507410</td>\n",
       "    </tr>\n",
       "    <tr>\n",
       "      <th>min</th>\n",
       "      <td>28.790000</td>\n",
       "      <td>28.300000</td>\n",
       "      <td>29.210000</td>\n",
       "      <td>27.840000</td>\n",
       "    </tr>\n",
       "    <tr>\n",
       "      <th>25%</th>\n",
       "      <td>59.510000</td>\n",
       "      <td>59.362500</td>\n",
       "      <td>60.280000</td>\n",
       "      <td>58.550000</td>\n",
       "    </tr>\n",
       "    <tr>\n",
       "      <th>50%</th>\n",
       "      <td>72.300000</td>\n",
       "      <td>72.115000</td>\n",
       "      <td>73.190000</td>\n",
       "      <td>71.500000</td>\n",
       "    </tr>\n",
       "    <tr>\n",
       "      <th>75%</th>\n",
       "      <td>104.300000</td>\n",
       "      <td>104.157500</td>\n",
       "      <td>105.315000</td>\n",
       "      <td>103.230000</td>\n",
       "    </tr>\n",
       "    <tr>\n",
       "      <th>max</th>\n",
       "      <td>146.080000</td>\n",
       "      <td>146.300000</td>\n",
       "      <td>147.500000</td>\n",
       "      <td>144.760000</td>\n",
       "    </tr>\n",
       "  </tbody>\n",
       "</table>\n",
       "</div>"
      ],
      "text/plain": [
       "       crudeoilbrent.closingprice  crudeoilbrent.openprice  \\\n",
       "count                 3675.000000              3626.000000   \n",
       "mean                    78.408506                78.281627   \n",
       "std                     24.637651                24.591547   \n",
       "min                     28.790000                28.300000   \n",
       "25%                     59.510000                59.362500   \n",
       "50%                     72.300000                72.115000   \n",
       "75%                    104.300000               104.157500   \n",
       "max                    146.080000               146.300000   \n",
       "\n",
       "       crudeoilbrent.dailyhigh  crudeoilbrent.dailylow  \n",
       "count              3647.000000             3645.000000  \n",
       "mean                 79.315898               77.422038  \n",
       "std                  24.746238               24.507410  \n",
       "min                  29.210000               27.840000  \n",
       "25%                  60.280000               58.550000  \n",
       "50%                  73.190000               71.500000  \n",
       "75%                 105.315000              103.230000  \n",
       "max                 147.500000              144.760000  "
      ]
     },
     "execution_count": 11,
     "metadata": {},
     "output_type": "execute_result"
    }
   ],
   "source": [
    "df.describe()"
   ]
  }
 ],
 "metadata": {
  "kernelspec": {
   "display_name": "Python 2",
   "language": "python",
   "name": "python2"
  },
  "language_info": {
   "codemirror_mode": {
    "name": "ipython",
    "version": 2
   },
   "file_extension": ".py",
   "mimetype": "text/x-python",
   "name": "python",
   "nbconvert_exporter": "python",
   "pygments_lexer": "ipython2",
   "version": "2.7.16"
  }
 },
 "nbformat": 4,
 "nbformat_minor": 2
}

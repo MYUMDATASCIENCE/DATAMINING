{
 "cells": [
  {
   "cell_type": "markdown",
   "metadata": {},
   "source": [
    "<H2>MILESTONE 4 - Interpretation of data & Communication of Insights of data  </H2>\n",
    "<H4>NAME : ZAIMIE AZMIN BIN ZAINUL ABIDIN</H4>\n",
    "<H4>MATRIX : 17202336 / WQD190018</H4>"
   ]
  },
  {
   "cell_type": "markdown",
   "metadata": {},
   "source": [
    "<H1>Forecasting Brent Crude Oil Price</H1>"
   ]
  },
  {
   "cell_type": "markdown",
   "metadata": {},
   "source": [
    "This notebook explains on forecasting Brent crude oil closing price using two machine learning models which are Support Vector Machine (SVM) and Linear Regression."
   ]
  },
  {
   "cell_type": "code",
   "execution_count": 17,
   "metadata": {},
   "outputs": [],
   "source": [
    "# Import needed libraries\n",
    "import pandas as pd\n",
    "import numpy as np\n",
    "from sklearn.preprocessing import MinMaxScaler\n",
    "from sklearn.model_selection import train_test_split\n",
    "from sklearn.linear_model import LinearRegression\n",
    "from sklearn.svm import SVR\n",
    "import matplotlib.pyplot as plt"
   ]
  },
  {
   "cell_type": "markdown",
   "metadata": {},
   "source": [
    "<h4>Step 1: Load the Data (from csv file scrap from website - mywebscrapBrentFinal.csv)"
   ]
  },
  {
   "cell_type": "code",
   "execution_count": 18,
   "metadata": {},
   "outputs": [],
   "source": [
    "df = pd.read_csv('mywebscrapBrentFinal.csv')"
   ]
  },
  {
   "cell_type": "code",
   "execution_count": 19,
   "metadata": {},
   "outputs": [
    {
     "name": "stdout",
     "output_type": "stream",
     "text": [
      "<class 'pandas.core.frame.DataFrame'>\n",
      "RangeIndex: 3675 entries, 0 to 3674\n",
      "Data columns (total 5 columns):\n",
      "Date             3675 non-null object\n",
      "Closing Price    3675 non-null float64\n",
      "Open             3626 non-null float64\n",
      "Daily High       3647 non-null float64\n",
      "Daily Low        3645 non-null float64\n",
      "dtypes: float64(4), object(1)\n",
      "memory usage: 143.6+ KB\n"
     ]
    }
   ],
   "source": [
    "df.info()"
   ]
  },
  {
   "cell_type": "code",
   "execution_count": 20,
   "metadata": {},
   "outputs": [
    {
     "data": {
      "text/html": [
       "<div>\n",
       "<style scoped>\n",
       "    .dataframe tbody tr th:only-of-type {\n",
       "        vertical-align: middle;\n",
       "    }\n",
       "\n",
       "    .dataframe tbody tr th {\n",
       "        vertical-align: top;\n",
       "    }\n",
       "\n",
       "    .dataframe thead th {\n",
       "        text-align: right;\n",
       "    }\n",
       "</style>\n",
       "<table border=\"1\" class=\"dataframe\">\n",
       "  <thead>\n",
       "    <tr style=\"text-align: right;\">\n",
       "      <th></th>\n",
       "      <th>Date</th>\n",
       "      <th>Closing Price</th>\n",
       "      <th>Open</th>\n",
       "      <th>Daily High</th>\n",
       "      <th>Daily Low</th>\n",
       "    </tr>\n",
       "  </thead>\n",
       "  <tbody>\n",
       "    <tr>\n",
       "      <th>0</th>\n",
       "      <td>03/11/20</td>\n",
       "      <td>35.79</td>\n",
       "      <td>37.27</td>\n",
       "      <td>39.70</td>\n",
       "      <td>35.35</td>\n",
       "    </tr>\n",
       "    <tr>\n",
       "      <th>1</th>\n",
       "      <td>03/10/20</td>\n",
       "      <td>37.22</td>\n",
       "      <td>35.84</td>\n",
       "      <td>38.22</td>\n",
       "      <td>35.00</td>\n",
       "    </tr>\n",
       "    <tr>\n",
       "      <th>2</th>\n",
       "      <td>03/09/20</td>\n",
       "      <td>34.36</td>\n",
       "      <td>38.28</td>\n",
       "      <td>38.34</td>\n",
       "      <td>31.02</td>\n",
       "    </tr>\n",
       "    <tr>\n",
       "      <th>3</th>\n",
       "      <td>03/06/20</td>\n",
       "      <td>45.27</td>\n",
       "      <td>50.25</td>\n",
       "      <td>50.45</td>\n",
       "      <td>45.18</td>\n",
       "    </tr>\n",
       "    <tr>\n",
       "      <th>4</th>\n",
       "      <td>03/05/20</td>\n",
       "      <td>49.99</td>\n",
       "      <td>51.66</td>\n",
       "      <td>52.04</td>\n",
       "      <td>49.70</td>\n",
       "    </tr>\n",
       "  </tbody>\n",
       "</table>\n",
       "</div>"
      ],
      "text/plain": [
       "       Date  Closing Price   Open  Daily High  Daily Low\n",
       "0  03/11/20          35.79  37.27       39.70      35.35\n",
       "1  03/10/20          37.22  35.84       38.22      35.00\n",
       "2  03/09/20          34.36  38.28       38.34      31.02\n",
       "3  03/06/20          45.27  50.25       50.45      45.18\n",
       "4  03/05/20          49.99  51.66       52.04      49.70"
      ]
     },
     "execution_count": 20,
     "metadata": {},
     "output_type": "execute_result"
    }
   ],
   "source": [
    "df.head()"
   ]
  },
  {
   "cell_type": "code",
   "execution_count": 21,
   "metadata": {},
   "outputs": [
    {
     "data": {
      "text/html": [
       "<div>\n",
       "<style scoped>\n",
       "    .dataframe tbody tr th:only-of-type {\n",
       "        vertical-align: middle;\n",
       "    }\n",
       "\n",
       "    .dataframe tbody tr th {\n",
       "        vertical-align: top;\n",
       "    }\n",
       "\n",
       "    .dataframe thead th {\n",
       "        text-align: right;\n",
       "    }\n",
       "</style>\n",
       "<table border=\"1\" class=\"dataframe\">\n",
       "  <thead>\n",
       "    <tr style=\"text-align: right;\">\n",
       "      <th></th>\n",
       "      <th>Date</th>\n",
       "      <th>Closing Price</th>\n",
       "      <th>Open</th>\n",
       "      <th>Daily High</th>\n",
       "      <th>Daily Low</th>\n",
       "    </tr>\n",
       "  </thead>\n",
       "  <tbody>\n",
       "    <tr>\n",
       "      <th>3670</th>\n",
       "      <td>01/09/06</td>\n",
       "      <td>62.24</td>\n",
       "      <td>62.24</td>\n",
       "      <td>62.24</td>\n",
       "      <td>62.24</td>\n",
       "    </tr>\n",
       "    <tr>\n",
       "      <th>3671</th>\n",
       "      <td>01/06/06</td>\n",
       "      <td>61.62</td>\n",
       "      <td>61.62</td>\n",
       "      <td>61.62</td>\n",
       "      <td>61.62</td>\n",
       "    </tr>\n",
       "    <tr>\n",
       "      <th>3672</th>\n",
       "      <td>01/05/06</td>\n",
       "      <td>61.05</td>\n",
       "      <td>61.05</td>\n",
       "      <td>61.05</td>\n",
       "      <td>61.05</td>\n",
       "    </tr>\n",
       "    <tr>\n",
       "      <th>3673</th>\n",
       "      <td>01/04/06</td>\n",
       "      <td>60.37</td>\n",
       "      <td>60.37</td>\n",
       "      <td>60.37</td>\n",
       "      <td>60.37</td>\n",
       "    </tr>\n",
       "    <tr>\n",
       "      <th>3674</th>\n",
       "      <td>01/03/06</td>\n",
       "      <td>58.16</td>\n",
       "      <td>58.16</td>\n",
       "      <td>58.16</td>\n",
       "      <td>58.16</td>\n",
       "    </tr>\n",
       "  </tbody>\n",
       "</table>\n",
       "</div>"
      ],
      "text/plain": [
       "          Date  Closing Price   Open  Daily High  Daily Low\n",
       "3670  01/09/06          62.24  62.24       62.24      62.24\n",
       "3671  01/06/06          61.62  61.62       61.62      61.62\n",
       "3672  01/05/06          61.05  61.05       61.05      61.05\n",
       "3673  01/04/06          60.37  60.37       60.37      60.37\n",
       "3674  01/03/06          58.16  58.16       58.16      58.16"
      ]
     },
     "execution_count": 21,
     "metadata": {},
     "output_type": "execute_result"
    }
   ],
   "source": [
    "df.tail()"
   ]
  },
  {
   "cell_type": "code",
   "execution_count": 22,
   "metadata": {},
   "outputs": [
    {
     "data": {
      "text/html": [
       "<div>\n",
       "<style scoped>\n",
       "    .dataframe tbody tr th:only-of-type {\n",
       "        vertical-align: middle;\n",
       "    }\n",
       "\n",
       "    .dataframe tbody tr th {\n",
       "        vertical-align: top;\n",
       "    }\n",
       "\n",
       "    .dataframe thead th {\n",
       "        text-align: right;\n",
       "    }\n",
       "</style>\n",
       "<table border=\"1\" class=\"dataframe\">\n",
       "  <thead>\n",
       "    <tr style=\"text-align: right;\">\n",
       "      <th></th>\n",
       "      <th>Closing Price</th>\n",
       "      <th>Open</th>\n",
       "      <th>Daily High</th>\n",
       "      <th>Daily Low</th>\n",
       "    </tr>\n",
       "  </thead>\n",
       "  <tbody>\n",
       "    <tr>\n",
       "      <th>count</th>\n",
       "      <td>3675.000000</td>\n",
       "      <td>3626.000000</td>\n",
       "      <td>3647.000000</td>\n",
       "      <td>3645.000000</td>\n",
       "    </tr>\n",
       "    <tr>\n",
       "      <th>mean</th>\n",
       "      <td>78.408506</td>\n",
       "      <td>78.281627</td>\n",
       "      <td>79.315898</td>\n",
       "      <td>77.422038</td>\n",
       "    </tr>\n",
       "    <tr>\n",
       "      <th>std</th>\n",
       "      <td>24.637651</td>\n",
       "      <td>24.591547</td>\n",
       "      <td>24.746238</td>\n",
       "      <td>24.507410</td>\n",
       "    </tr>\n",
       "    <tr>\n",
       "      <th>min</th>\n",
       "      <td>28.790000</td>\n",
       "      <td>28.300000</td>\n",
       "      <td>29.210000</td>\n",
       "      <td>27.840000</td>\n",
       "    </tr>\n",
       "    <tr>\n",
       "      <th>25%</th>\n",
       "      <td>59.510000</td>\n",
       "      <td>59.362500</td>\n",
       "      <td>60.280000</td>\n",
       "      <td>58.550000</td>\n",
       "    </tr>\n",
       "    <tr>\n",
       "      <th>50%</th>\n",
       "      <td>72.300000</td>\n",
       "      <td>72.115000</td>\n",
       "      <td>73.190000</td>\n",
       "      <td>71.500000</td>\n",
       "    </tr>\n",
       "    <tr>\n",
       "      <th>75%</th>\n",
       "      <td>104.300000</td>\n",
       "      <td>104.157500</td>\n",
       "      <td>105.315000</td>\n",
       "      <td>103.230000</td>\n",
       "    </tr>\n",
       "    <tr>\n",
       "      <th>max</th>\n",
       "      <td>146.080000</td>\n",
       "      <td>146.300000</td>\n",
       "      <td>147.500000</td>\n",
       "      <td>144.760000</td>\n",
       "    </tr>\n",
       "  </tbody>\n",
       "</table>\n",
       "</div>"
      ],
      "text/plain": [
       "       Closing Price         Open   Daily High    Daily Low\n",
       "count    3675.000000  3626.000000  3647.000000  3645.000000\n",
       "mean       78.408506    78.281627    79.315898    77.422038\n",
       "std        24.637651    24.591547    24.746238    24.507410\n",
       "min        28.790000    28.300000    29.210000    27.840000\n",
       "25%        59.510000    59.362500    60.280000    58.550000\n",
       "50%        72.300000    72.115000    73.190000    71.500000\n",
       "75%       104.300000   104.157500   105.315000   103.230000\n",
       "max       146.080000   146.300000   147.500000   144.760000"
      ]
     },
     "execution_count": 22,
     "metadata": {},
     "output_type": "execute_result"
    }
   ],
   "source": [
    "df.describe()"
   ]
  },
  {
   "cell_type": "markdown",
   "metadata": {},
   "source": [
    "<h4>Step 2: Understanding & Cleaning the Data"
   ]
  },
  {
   "cell_type": "code",
   "execution_count": 23,
   "metadata": {},
   "outputs": [
    {
     "data": {
      "text/plain": [
       "Index([u'Date', u'Closing Price', u'Open', u'Daily High', u'Daily Low'], dtype='object')"
      ]
     },
     "execution_count": 23,
     "metadata": {},
     "output_type": "execute_result"
    }
   ],
   "source": [
    "# Print the column names\n",
    "df.columns"
   ]
  },
  {
   "cell_type": "code",
   "execution_count": 24,
   "metadata": {},
   "outputs": [
    {
     "data": {
      "text/plain": [
       "Index([u'Date', u'Close', u'Open', u'High', u'Low'], dtype='object')"
      ]
     },
     "execution_count": 24,
     "metadata": {},
     "output_type": "execute_result"
    }
   ],
   "source": [
    "# Rename column names\n",
    "df.columns = ['Date', 'Close', 'Open', 'High', 'Low']\n",
    "df.columns"
   ]
  },
  {
   "cell_type": "code",
   "execution_count": 25,
   "metadata": {},
   "outputs": [
    {
     "name": "stdout",
     "output_type": "stream",
     "text": [
      "<class 'pandas.core.frame.DataFrame'>\n",
      "RangeIndex: 3675 entries, 0 to 3674\n",
      "Data columns (total 5 columns):\n",
      "Date     3675 non-null object\n",
      "Close    3675 non-null float64\n",
      "Open     3626 non-null float64\n",
      "High     3647 non-null float64\n",
      "Low      3645 non-null float64\n",
      "dtypes: float64(4), object(1)\n",
      "memory usage: 143.6+ KB\n"
     ]
    }
   ],
   "source": [
    "df.info()"
   ]
  },
  {
   "cell_type": "code",
   "execution_count": 26,
   "metadata": {},
   "outputs": [],
   "source": [
    "# Change column type \n",
    "df['Date'] = pd.to_datetime(df['Date'])"
   ]
  },
  {
   "cell_type": "code",
   "execution_count": 27,
   "metadata": {},
   "outputs": [
    {
     "name": "stdout",
     "output_type": "stream",
     "text": [
      "<class 'pandas.core.frame.DataFrame'>\n",
      "RangeIndex: 3675 entries, 0 to 3674\n",
      "Data columns (total 5 columns):\n",
      "Date     3675 non-null datetime64[ns]\n",
      "Close    3675 non-null float64\n",
      "Open     3626 non-null float64\n",
      "High     3647 non-null float64\n",
      "Low      3645 non-null float64\n",
      "dtypes: datetime64[ns](1), float64(4)\n",
      "memory usage: 143.6 KB\n"
     ]
    }
   ],
   "source": [
    "# Check the data type of column Date\n",
    "df.info()"
   ]
  },
  {
   "cell_type": "code",
   "execution_count": 28,
   "metadata": {},
   "outputs": [
    {
     "data": {
      "text/html": [
       "<div>\n",
       "<style scoped>\n",
       "    .dataframe tbody tr th:only-of-type {\n",
       "        vertical-align: middle;\n",
       "    }\n",
       "\n",
       "    .dataframe tbody tr th {\n",
       "        vertical-align: top;\n",
       "    }\n",
       "\n",
       "    .dataframe thead th {\n",
       "        text-align: right;\n",
       "    }\n",
       "</style>\n",
       "<table border=\"1\" class=\"dataframe\">\n",
       "  <thead>\n",
       "    <tr style=\"text-align: right;\">\n",
       "      <th></th>\n",
       "      <th>Date</th>\n",
       "      <th>Close</th>\n",
       "      <th>Open</th>\n",
       "      <th>High</th>\n",
       "      <th>Low</th>\n",
       "    </tr>\n",
       "  </thead>\n",
       "  <tbody>\n",
       "    <tr>\n",
       "      <th>0</th>\n",
       "      <td>2020-03-11</td>\n",
       "      <td>35.79</td>\n",
       "      <td>37.27</td>\n",
       "      <td>39.70</td>\n",
       "      <td>35.35</td>\n",
       "    </tr>\n",
       "    <tr>\n",
       "      <th>1</th>\n",
       "      <td>2020-03-10</td>\n",
       "      <td>37.22</td>\n",
       "      <td>35.84</td>\n",
       "      <td>38.22</td>\n",
       "      <td>35.00</td>\n",
       "    </tr>\n",
       "    <tr>\n",
       "      <th>2</th>\n",
       "      <td>2020-03-09</td>\n",
       "      <td>34.36</td>\n",
       "      <td>38.28</td>\n",
       "      <td>38.34</td>\n",
       "      <td>31.02</td>\n",
       "    </tr>\n",
       "    <tr>\n",
       "      <th>3</th>\n",
       "      <td>2020-03-06</td>\n",
       "      <td>45.27</td>\n",
       "      <td>50.25</td>\n",
       "      <td>50.45</td>\n",
       "      <td>45.18</td>\n",
       "    </tr>\n",
       "    <tr>\n",
       "      <th>4</th>\n",
       "      <td>2020-03-05</td>\n",
       "      <td>49.99</td>\n",
       "      <td>51.66</td>\n",
       "      <td>52.04</td>\n",
       "      <td>49.70</td>\n",
       "    </tr>\n",
       "  </tbody>\n",
       "</table>\n",
       "</div>"
      ],
      "text/plain": [
       "        Date  Close   Open   High    Low\n",
       "0 2020-03-11  35.79  37.27  39.70  35.35\n",
       "1 2020-03-10  37.22  35.84  38.22  35.00\n",
       "2 2020-03-09  34.36  38.28  38.34  31.02\n",
       "3 2020-03-06  45.27  50.25  50.45  45.18\n",
       "4 2020-03-05  49.99  51.66  52.04  49.70"
      ]
     },
     "execution_count": 28,
     "metadata": {},
     "output_type": "execute_result"
    }
   ],
   "source": [
    "df.head()"
   ]
  },
  {
   "cell_type": "code",
   "execution_count": 29,
   "metadata": {},
   "outputs": [
    {
     "data": {
      "text/html": [
       "<div>\n",
       "<style scoped>\n",
       "    .dataframe tbody tr th:only-of-type {\n",
       "        vertical-align: middle;\n",
       "    }\n",
       "\n",
       "    .dataframe tbody tr th {\n",
       "        vertical-align: top;\n",
       "    }\n",
       "\n",
       "    .dataframe thead th {\n",
       "        text-align: right;\n",
       "    }\n",
       "</style>\n",
       "<table border=\"1\" class=\"dataframe\">\n",
       "  <thead>\n",
       "    <tr style=\"text-align: right;\">\n",
       "      <th></th>\n",
       "      <th>Date</th>\n",
       "      <th>Close</th>\n",
       "      <th>Open</th>\n",
       "      <th>High</th>\n",
       "      <th>Low</th>\n",
       "    </tr>\n",
       "  </thead>\n",
       "  <tbody>\n",
       "    <tr>\n",
       "      <th>0</th>\n",
       "      <td>2006-01-03</td>\n",
       "      <td>58.16</td>\n",
       "      <td>58.16</td>\n",
       "      <td>58.16</td>\n",
       "      <td>58.16</td>\n",
       "    </tr>\n",
       "    <tr>\n",
       "      <th>1</th>\n",
       "      <td>2006-01-04</td>\n",
       "      <td>60.37</td>\n",
       "      <td>60.37</td>\n",
       "      <td>60.37</td>\n",
       "      <td>60.37</td>\n",
       "    </tr>\n",
       "    <tr>\n",
       "      <th>2</th>\n",
       "      <td>2006-01-05</td>\n",
       "      <td>61.05</td>\n",
       "      <td>61.05</td>\n",
       "      <td>61.05</td>\n",
       "      <td>61.05</td>\n",
       "    </tr>\n",
       "    <tr>\n",
       "      <th>3</th>\n",
       "      <td>2006-01-06</td>\n",
       "      <td>61.62</td>\n",
       "      <td>61.62</td>\n",
       "      <td>61.62</td>\n",
       "      <td>61.62</td>\n",
       "    </tr>\n",
       "    <tr>\n",
       "      <th>4</th>\n",
       "      <td>2006-01-09</td>\n",
       "      <td>62.24</td>\n",
       "      <td>62.24</td>\n",
       "      <td>62.24</td>\n",
       "      <td>62.24</td>\n",
       "    </tr>\n",
       "  </tbody>\n",
       "</table>\n",
       "</div>"
      ],
      "text/plain": [
       "        Date  Close   Open   High    Low\n",
       "0 2006-01-03  58.16  58.16  58.16  58.16\n",
       "1 2006-01-04  60.37  60.37  60.37  60.37\n",
       "2 2006-01-05  61.05  61.05  61.05  61.05\n",
       "3 2006-01-06  61.62  61.62  61.62  61.62\n",
       "4 2006-01-09  62.24  62.24  62.24  62.24"
      ]
     },
     "execution_count": 29,
     "metadata": {},
     "output_type": "execute_result"
    }
   ],
   "source": [
    "df = df.sort_index(ascending=False).reset_index(drop=True)\n",
    "df.head()"
   ]
  },
  {
   "cell_type": "code",
   "execution_count": 30,
   "metadata": {},
   "outputs": [
    {
     "data": {
      "text/html": [
       "<div>\n",
       "<style scoped>\n",
       "    .dataframe tbody tr th:only-of-type {\n",
       "        vertical-align: middle;\n",
       "    }\n",
       "\n",
       "    .dataframe tbody tr th {\n",
       "        vertical-align: top;\n",
       "    }\n",
       "\n",
       "    .dataframe thead th {\n",
       "        text-align: right;\n",
       "    }\n",
       "</style>\n",
       "<table border=\"1\" class=\"dataframe\">\n",
       "  <thead>\n",
       "    <tr style=\"text-align: right;\">\n",
       "      <th></th>\n",
       "      <th>Date</th>\n",
       "      <th>Close</th>\n",
       "      <th>Open</th>\n",
       "      <th>High</th>\n",
       "      <th>Low</th>\n",
       "    </tr>\n",
       "  </thead>\n",
       "  <tbody>\n",
       "    <tr>\n",
       "      <th>3670</th>\n",
       "      <td>2020-03-05</td>\n",
       "      <td>49.99</td>\n",
       "      <td>51.66</td>\n",
       "      <td>52.04</td>\n",
       "      <td>49.70</td>\n",
       "    </tr>\n",
       "    <tr>\n",
       "      <th>3671</th>\n",
       "      <td>2020-03-06</td>\n",
       "      <td>45.27</td>\n",
       "      <td>50.25</td>\n",
       "      <td>50.45</td>\n",
       "      <td>45.18</td>\n",
       "    </tr>\n",
       "    <tr>\n",
       "      <th>3672</th>\n",
       "      <td>2020-03-09</td>\n",
       "      <td>34.36</td>\n",
       "      <td>38.28</td>\n",
       "      <td>38.34</td>\n",
       "      <td>31.02</td>\n",
       "    </tr>\n",
       "    <tr>\n",
       "      <th>3673</th>\n",
       "      <td>2020-03-10</td>\n",
       "      <td>37.22</td>\n",
       "      <td>35.84</td>\n",
       "      <td>38.22</td>\n",
       "      <td>35.00</td>\n",
       "    </tr>\n",
       "    <tr>\n",
       "      <th>3674</th>\n",
       "      <td>2020-03-11</td>\n",
       "      <td>35.79</td>\n",
       "      <td>37.27</td>\n",
       "      <td>39.70</td>\n",
       "      <td>35.35</td>\n",
       "    </tr>\n",
       "  </tbody>\n",
       "</table>\n",
       "</div>"
      ],
      "text/plain": [
       "           Date  Close   Open   High    Low\n",
       "3670 2020-03-05  49.99  51.66  52.04  49.70\n",
       "3671 2020-03-06  45.27  50.25  50.45  45.18\n",
       "3672 2020-03-09  34.36  38.28  38.34  31.02\n",
       "3673 2020-03-10  37.22  35.84  38.22  35.00\n",
       "3674 2020-03-11  35.79  37.27  39.70  35.35"
      ]
     },
     "execution_count": 30,
     "metadata": {},
     "output_type": "execute_result"
    }
   ],
   "source": [
    "df.tail()"
   ]
  },
  {
   "cell_type": "code",
   "execution_count": 31,
   "metadata": {},
   "outputs": [
    {
     "data": {
      "text/html": [
       "<div>\n",
       "<style scoped>\n",
       "    .dataframe tbody tr th:only-of-type {\n",
       "        vertical-align: middle;\n",
       "    }\n",
       "\n",
       "    .dataframe tbody tr th {\n",
       "        vertical-align: top;\n",
       "    }\n",
       "\n",
       "    .dataframe thead th {\n",
       "        text-align: right;\n",
       "    }\n",
       "</style>\n",
       "<table border=\"1\" class=\"dataframe\">\n",
       "  <thead>\n",
       "    <tr style=\"text-align: right;\">\n",
       "      <th></th>\n",
       "      <th>Close</th>\n",
       "      <th>Open</th>\n",
       "      <th>High</th>\n",
       "      <th>Low</th>\n",
       "    </tr>\n",
       "    <tr>\n",
       "      <th>Date</th>\n",
       "      <th></th>\n",
       "      <th></th>\n",
       "      <th></th>\n",
       "      <th></th>\n",
       "    </tr>\n",
       "  </thead>\n",
       "  <tbody>\n",
       "    <tr>\n",
       "      <th>2006-01-03</th>\n",
       "      <td>58.16</td>\n",
       "      <td>58.16</td>\n",
       "      <td>58.16</td>\n",
       "      <td>58.16</td>\n",
       "    </tr>\n",
       "    <tr>\n",
       "      <th>2006-01-04</th>\n",
       "      <td>60.37</td>\n",
       "      <td>60.37</td>\n",
       "      <td>60.37</td>\n",
       "      <td>60.37</td>\n",
       "    </tr>\n",
       "    <tr>\n",
       "      <th>2006-01-05</th>\n",
       "      <td>61.05</td>\n",
       "      <td>61.05</td>\n",
       "      <td>61.05</td>\n",
       "      <td>61.05</td>\n",
       "    </tr>\n",
       "    <tr>\n",
       "      <th>2006-01-06</th>\n",
       "      <td>61.62</td>\n",
       "      <td>61.62</td>\n",
       "      <td>61.62</td>\n",
       "      <td>61.62</td>\n",
       "    </tr>\n",
       "    <tr>\n",
       "      <th>2006-01-09</th>\n",
       "      <td>62.24</td>\n",
       "      <td>62.24</td>\n",
       "      <td>62.24</td>\n",
       "      <td>62.24</td>\n",
       "    </tr>\n",
       "  </tbody>\n",
       "</table>\n",
       "</div>"
      ],
      "text/plain": [
       "            Close   Open   High    Low\n",
       "Date                                  \n",
       "2006-01-03  58.16  58.16  58.16  58.16\n",
       "2006-01-04  60.37  60.37  60.37  60.37\n",
       "2006-01-05  61.05  61.05  61.05  61.05\n",
       "2006-01-06  61.62  61.62  61.62  61.62\n",
       "2006-01-09  62.24  62.24  62.24  62.24"
      ]
     },
     "execution_count": 31,
     "metadata": {},
     "output_type": "execute_result"
    }
   ],
   "source": [
    "# For ease of work, the date becomes the index\n",
    "df.set_index('Date', inplace=True)\n",
    "df.head()"
   ]
  },
  {
   "cell_type": "code",
   "execution_count": 32,
   "metadata": {},
   "outputs": [
    {
     "name": "stdout",
     "output_type": "stream",
     "text": [
      "<class 'pandas.core.frame.DataFrame'>\n",
      "DatetimeIndex: 3675 entries, 2006-01-03 to 2020-03-11\n",
      "Data columns (total 4 columns):\n",
      "Close    3675 non-null float64\n",
      "Open     3626 non-null float64\n",
      "High     3647 non-null float64\n",
      "Low      3645 non-null float64\n",
      "dtypes: float64(4)\n",
      "memory usage: 143.6 KB\n"
     ]
    }
   ],
   "source": [
    "#Check and replace missing value\n",
    "df.info()"
   ]
  },
  {
   "cell_type": "code",
   "execution_count": 33,
   "metadata": {},
   "outputs": [
    {
     "data": {
      "text/plain": [
       "Close     0\n",
       "Open     49\n",
       "High     28\n",
       "Low      30\n",
       "dtype: int64"
      ]
     },
     "execution_count": 33,
     "metadata": {},
     "output_type": "execute_result"
    }
   ],
   "source": [
    "df.isnull().sum()"
   ]
  },
  {
   "cell_type": "code",
   "execution_count": 34,
   "metadata": {},
   "outputs": [
    {
     "data": {
      "text/html": [
       "<div>\n",
       "<style scoped>\n",
       "    .dataframe tbody tr th:only-of-type {\n",
       "        vertical-align: middle;\n",
       "    }\n",
       "\n",
       "    .dataframe tbody tr th {\n",
       "        vertical-align: top;\n",
       "    }\n",
       "\n",
       "    .dataframe thead th {\n",
       "        text-align: right;\n",
       "    }\n",
       "</style>\n",
       "<table border=\"1\" class=\"dataframe\">\n",
       "  <thead>\n",
       "    <tr style=\"text-align: right;\">\n",
       "      <th></th>\n",
       "      <th>Close</th>\n",
       "    </tr>\n",
       "    <tr>\n",
       "      <th>Date</th>\n",
       "      <th></th>\n",
       "    </tr>\n",
       "  </thead>\n",
       "  <tbody>\n",
       "    <tr>\n",
       "      <th>2006-01-03</th>\n",
       "      <td>58.16</td>\n",
       "    </tr>\n",
       "    <tr>\n",
       "      <th>2006-01-04</th>\n",
       "      <td>60.37</td>\n",
       "    </tr>\n",
       "    <tr>\n",
       "      <th>2006-01-05</th>\n",
       "      <td>61.05</td>\n",
       "    </tr>\n",
       "    <tr>\n",
       "      <th>2006-01-06</th>\n",
       "      <td>61.62</td>\n",
       "    </tr>\n",
       "    <tr>\n",
       "      <th>2006-01-09</th>\n",
       "      <td>62.24</td>\n",
       "    </tr>\n",
       "  </tbody>\n",
       "</table>\n",
       "</div>"
      ],
      "text/plain": [
       "            Close\n",
       "Date             \n",
       "2006-01-03  58.16\n",
       "2006-01-04  60.37\n",
       "2006-01-05  61.05\n",
       "2006-01-06  61.62\n",
       "2006-01-09  62.24"
      ]
     },
     "execution_count": 34,
     "metadata": {},
     "output_type": "execute_result"
    }
   ],
   "source": [
    "#Using only [Close] column to predict Brent price\n",
    "brent = df[['Close']].copy()\n",
    "brent.head()"
   ]
  },
  {
   "cell_type": "code",
   "execution_count": 40,
   "metadata": {},
   "outputs": [
    {
     "data": {
      "text/html": [
       "<div>\n",
       "<style scoped>\n",
       "    .dataframe tbody tr th:only-of-type {\n",
       "        vertical-align: middle;\n",
       "    }\n",
       "\n",
       "    .dataframe tbody tr th {\n",
       "        vertical-align: top;\n",
       "    }\n",
       "\n",
       "    .dataframe thead th {\n",
       "        text-align: right;\n",
       "    }\n",
       "</style>\n",
       "<table border=\"1\" class=\"dataframe\">\n",
       "  <thead>\n",
       "    <tr style=\"text-align: right;\">\n",
       "      <th></th>\n",
       "      <th>Close</th>\n",
       "      <th>Prediction</th>\n",
       "    </tr>\n",
       "    <tr>\n",
       "      <th>Date</th>\n",
       "      <th></th>\n",
       "      <th></th>\n",
       "    </tr>\n",
       "  </thead>\n",
       "  <tbody>\n",
       "    <tr>\n",
       "      <th>2020-01-29</th>\n",
       "      <td>59.81</td>\n",
       "      <td>35.79</td>\n",
       "    </tr>\n",
       "    <tr>\n",
       "      <th>2020-01-30</th>\n",
       "      <td>58.29</td>\n",
       "      <td>NaN</td>\n",
       "    </tr>\n",
       "    <tr>\n",
       "      <th>2020-01-31</th>\n",
       "      <td>58.16</td>\n",
       "      <td>NaN</td>\n",
       "    </tr>\n",
       "    <tr>\n",
       "      <th>2020-02-03</th>\n",
       "      <td>54.45</td>\n",
       "      <td>NaN</td>\n",
       "    </tr>\n",
       "    <tr>\n",
       "      <th>2020-02-04</th>\n",
       "      <td>53.96</td>\n",
       "      <td>NaN</td>\n",
       "    </tr>\n",
       "    <tr>\n",
       "      <th>2020-02-05</th>\n",
       "      <td>55.28</td>\n",
       "      <td>NaN</td>\n",
       "    </tr>\n",
       "    <tr>\n",
       "      <th>2020-02-06</th>\n",
       "      <td>54.93</td>\n",
       "      <td>NaN</td>\n",
       "    </tr>\n",
       "    <tr>\n",
       "      <th>2020-02-07</th>\n",
       "      <td>54.47</td>\n",
       "      <td>NaN</td>\n",
       "    </tr>\n",
       "    <tr>\n",
       "      <th>2020-02-10</th>\n",
       "      <td>53.27</td>\n",
       "      <td>NaN</td>\n",
       "    </tr>\n",
       "    <tr>\n",
       "      <th>2020-02-11</th>\n",
       "      <td>54.01</td>\n",
       "      <td>NaN</td>\n",
       "    </tr>\n",
       "    <tr>\n",
       "      <th>2020-02-12</th>\n",
       "      <td>55.79</td>\n",
       "      <td>NaN</td>\n",
       "    </tr>\n",
       "    <tr>\n",
       "      <th>2020-02-13</th>\n",
       "      <td>56.34</td>\n",
       "      <td>NaN</td>\n",
       "    </tr>\n",
       "    <tr>\n",
       "      <th>2020-02-14</th>\n",
       "      <td>57.32</td>\n",
       "      <td>NaN</td>\n",
       "    </tr>\n",
       "    <tr>\n",
       "      <th>2020-02-17</th>\n",
       "      <td>57.67</td>\n",
       "      <td>NaN</td>\n",
       "    </tr>\n",
       "    <tr>\n",
       "      <th>2020-02-18</th>\n",
       "      <td>57.75</td>\n",
       "      <td>NaN</td>\n",
       "    </tr>\n",
       "    <tr>\n",
       "      <th>2020-02-19</th>\n",
       "      <td>59.12</td>\n",
       "      <td>NaN</td>\n",
       "    </tr>\n",
       "    <tr>\n",
       "      <th>2020-02-20</th>\n",
       "      <td>59.31</td>\n",
       "      <td>NaN</td>\n",
       "    </tr>\n",
       "    <tr>\n",
       "      <th>2020-02-21</th>\n",
       "      <td>58.50</td>\n",
       "      <td>NaN</td>\n",
       "    </tr>\n",
       "    <tr>\n",
       "      <th>2020-02-24</th>\n",
       "      <td>56.30</td>\n",
       "      <td>NaN</td>\n",
       "    </tr>\n",
       "    <tr>\n",
       "      <th>2020-02-25</th>\n",
       "      <td>54.95</td>\n",
       "      <td>NaN</td>\n",
       "    </tr>\n",
       "    <tr>\n",
       "      <th>2020-02-26</th>\n",
       "      <td>53.43</td>\n",
       "      <td>NaN</td>\n",
       "    </tr>\n",
       "    <tr>\n",
       "      <th>2020-02-27</th>\n",
       "      <td>52.18</td>\n",
       "      <td>NaN</td>\n",
       "    </tr>\n",
       "    <tr>\n",
       "      <th>2020-02-28</th>\n",
       "      <td>50.52</td>\n",
       "      <td>NaN</td>\n",
       "    </tr>\n",
       "    <tr>\n",
       "      <th>2020-03-02</th>\n",
       "      <td>51.90</td>\n",
       "      <td>NaN</td>\n",
       "    </tr>\n",
       "    <tr>\n",
       "      <th>2020-03-03</th>\n",
       "      <td>51.86</td>\n",
       "      <td>NaN</td>\n",
       "    </tr>\n",
       "    <tr>\n",
       "      <th>2020-03-04</th>\n",
       "      <td>51.13</td>\n",
       "      <td>NaN</td>\n",
       "    </tr>\n",
       "    <tr>\n",
       "      <th>2020-03-05</th>\n",
       "      <td>49.99</td>\n",
       "      <td>NaN</td>\n",
       "    </tr>\n",
       "    <tr>\n",
       "      <th>2020-03-06</th>\n",
       "      <td>45.27</td>\n",
       "      <td>NaN</td>\n",
       "    </tr>\n",
       "    <tr>\n",
       "      <th>2020-03-09</th>\n",
       "      <td>34.36</td>\n",
       "      <td>NaN</td>\n",
       "    </tr>\n",
       "    <tr>\n",
       "      <th>2020-03-10</th>\n",
       "      <td>37.22</td>\n",
       "      <td>NaN</td>\n",
       "    </tr>\n",
       "    <tr>\n",
       "      <th>2020-03-11</th>\n",
       "      <td>35.79</td>\n",
       "      <td>NaN</td>\n",
       "    </tr>\n",
       "  </tbody>\n",
       "</table>\n",
       "</div>"
      ],
      "text/plain": [
       "            Close  Prediction\n",
       "Date                         \n",
       "2020-01-29  59.81       35.79\n",
       "2020-01-30  58.29         NaN\n",
       "2020-01-31  58.16         NaN\n",
       "2020-02-03  54.45         NaN\n",
       "2020-02-04  53.96         NaN\n",
       "2020-02-05  55.28         NaN\n",
       "2020-02-06  54.93         NaN\n",
       "2020-02-07  54.47         NaN\n",
       "2020-02-10  53.27         NaN\n",
       "2020-02-11  54.01         NaN\n",
       "2020-02-12  55.79         NaN\n",
       "2020-02-13  56.34         NaN\n",
       "2020-02-14  57.32         NaN\n",
       "2020-02-17  57.67         NaN\n",
       "2020-02-18  57.75         NaN\n",
       "2020-02-19  59.12         NaN\n",
       "2020-02-20  59.31         NaN\n",
       "2020-02-21  58.50         NaN\n",
       "2020-02-24  56.30         NaN\n",
       "2020-02-25  54.95         NaN\n",
       "2020-02-26  53.43         NaN\n",
       "2020-02-27  52.18         NaN\n",
       "2020-02-28  50.52         NaN\n",
       "2020-03-02  51.90         NaN\n",
       "2020-03-03  51.86         NaN\n",
       "2020-03-04  51.13         NaN\n",
       "2020-03-05  49.99         NaN\n",
       "2020-03-06  45.27         NaN\n",
       "2020-03-09  34.36         NaN\n",
       "2020-03-10  37.22         NaN\n",
       "2020-03-11  35.79         NaN"
      ]
     },
     "execution_count": 40,
     "metadata": {},
     "output_type": "execute_result"
    }
   ],
   "source": [
    "# 'n' days prediction \n",
    "forecast_out = 30\n",
    "# Create column for target or dependent variable - shifted 'n' up\n",
    "brent['Prediction'] = df['Close'].shift(-forecast_out).copy()\n",
    "# The latest data becomes the prediction for the previous data\n",
    "brent.tail(31)"
   ]
  },
  {
   "cell_type": "markdown",
   "metadata": {},
   "source": [
    "As we can see, the data closing price for date 2020-03-11 is used as the prediction for the closing price for date 2019-10-21 - which is 100 days interval."
   ]
  },
  {
   "cell_type": "code",
   "execution_count": 43,
   "metadata": {},
   "outputs": [
    {
     "data": {
      "image/png": "[encoded data removed]",
      "text/plain": [
       "<Figure size 432x288 with 1 Axes>"
      ]
     },
     "metadata": {
      "needs_background": "light"
     },
     "output_type": "display_data"
    }
   ],
   "source": [
    "#Scale & Plot the data\n",
    "brent[['Close']].plot()\n",
    "plt.title('BRENT Crued Oil Price')\n",
    "plt.xlabel('Year')\n",
    "plt.ylabel('BRENT Close Prise ($)')\n",
    "plt.show()"
   ]
  },
  {
   "cell_type": "code",
   "execution_count": 44,
   "metadata": {},
   "outputs": [
    {
     "data": {
      "text/plain": [
       "array([[0.25040498, 0.26225595],\n",
       "       [0.26924717, 0.26839458],\n",
       "       [0.27504476, 0.26148862],\n",
       "       ...,\n",
       "       [0.04748913,        nan],\n",
       "       [0.07187313,        nan],\n",
       "       [0.05968113,        nan]])"
      ]
     },
     "execution_count": 44,
     "metadata": {},
     "output_type": "execute_result"
    }
   ],
   "source": [
    "scaler = MinMaxScaler(feature_range=(0,1))\n",
    "scaled_brent = scaler.fit_transform(brent)\n",
    "scaled_brent"
   ]
  },
  {
   "cell_type": "code",
   "execution_count": 45,
   "metadata": {},
   "outputs": [
    {
     "data": {
      "image/png": "[encoded data removed]",
      "text/plain": [
       "<Figure size 432x288 with 1 Axes>"
      ]
     },
     "metadata": {
      "needs_background": "light"
     },
     "output_type": "display_data"
    }
   ],
   "source": [
    "plt.plot(brent['Close'], label='Before')\n",
    "plt.plot(brent.index,[i[0] for i in scaled_brent], label='After')\n",
    "plt.legend()\n",
    "plt.xlabel('Year')\n",
    "plt.ylabel('BRENT Closing Price ($)')\n",
    "plt.title('BRENT Price Before and After Scaling')\n",
    "plt.show()"
   ]
  },
  {
   "cell_type": "markdown",
   "metadata": {},
   "source": [
    "<h4>Step 3: Splitting the dataset and create the independent data set, X"
   ]
  },
  {
   "cell_type": "code",
   "execution_count": 47,
   "metadata": {},
   "outputs": [
    {
     "data": {
      "text/plain": [
       "array([[0.25040498],\n",
       "       [0.26924717],\n",
       "       [0.27504476],\n",
       "       ...,\n",
       "       [0.260295  ],\n",
       "       [0.26191491],\n",
       "       [0.26447267]])"
      ]
     },
     "execution_count": 47,
     "metadata": {},
     "output_type": "execute_result"
    }
   ],
   "source": [
    "x = [[i[0]] for i in scaled_brent]\n",
    "x = np.array(x[:-forecast_out])\n",
    "x"
   ]
  },
  {
   "cell_type": "code",
   "execution_count": 48,
   "metadata": {},
   "outputs": [
    {
     "data": {
      "text/plain": [
       "array([0.26225595, 0.26839458, 0.26148862, ..., 0.04748913, 0.07187313,\n",
       "       0.05968113])"
      ]
     },
     "execution_count": 48,
     "metadata": {},
     "output_type": "execute_result"
    }
   ],
   "source": [
    "# Create the dependent data set y\n",
    "y = [i[1] for i in scaled_brent]\n",
    "y = np.array(y[:-forecast_out])\n",
    "y"
   ]
  },
  {
   "cell_type": "code",
   "execution_count": 49,
   "metadata": {},
   "outputs": [],
   "source": [
    "# Split the data into 80% training and 20% testing\n",
    "x_train, x_test, y_train, y_test = train_test_split(\n",
    "    x,\n",
    "    y,\n",
    "    test_size=0.2,\n",
    "    random_state=0\n",
    ")"
   ]
  },
  {
   "cell_type": "markdown",
   "metadata": {},
   "source": [
    "<h4>Step 4: Modeling</h4>\n",
    "<br>i) Building SVM model"
   ]
  },
  {
   "cell_type": "code",
   "execution_count": 51,
   "metadata": {},
   "outputs": [
    {
     "data": {
      "text/plain": [
       "SVR(C=1000.0, cache_size=200, coef0=0.0, degree=3, epsilon=0.1, gamma=0.1,\n",
       "  kernel='rbf', max_iter=-1, shrinking=True, tol=0.001, verbose=False)"
      ]
     },
     "execution_count": 51,
     "metadata": {},
     "output_type": "execute_result"
    }
   ],
   "source": [
    "# Create and train the Support Vector Machine (Regressor)\n",
    "svr_rbf = SVR(kernel='rbf', C=1e3, gamma=0.1)\n",
    "svr_rbf.fit(x_train, y_train)"
   ]
  },
  {
   "cell_type": "code",
   "execution_count": 52,
   "metadata": {},
   "outputs": [],
   "source": [
    "# Testing model: score returns the coefficient of determination R^2 of the prediction.\n",
    "svm_confidence = svr_rbf.score(x_test, y_test)"
   ]
  },
  {
   "cell_type": "code",
   "execution_count": 53,
   "metadata": {},
   "outputs": [
    {
     "data": {
      "text/plain": [
       "0.8785089674939943"
      ]
     },
     "execution_count": 53,
     "metadata": {},
     "output_type": "execute_result"
    }
   ],
   "source": [
    "svm_confidence"
   ]
  },
  {
   "cell_type": "markdown",
   "metadata": {},
   "source": [
    "ii)Building Linear Regression model"
   ]
  },
  {
   "cell_type": "code",
   "execution_count": 55,
   "metadata": {},
   "outputs": [
    {
     "data": {
      "text/plain": [
       "LinearRegression(copy_X=True, fit_intercept=True, n_jobs=None,\n",
       "         normalize=False)"
      ]
     },
     "execution_count": 55,
     "metadata": {},
     "output_type": "execute_result"
    }
   ],
   "source": [
    "# create lr and train linear regression\n",
    "lr = LinearRegression()\n",
    "lr.fit(x_train, y_train)"
   ]
  },
  {
   "cell_type": "code",
   "execution_count": 56,
   "metadata": {},
   "outputs": [],
   "source": [
    "lr_confidence = lr.score(x_test, y_test)"
   ]
  },
  {
   "cell_type": "code",
   "execution_count": 57,
   "metadata": {},
   "outputs": [
    {
     "data": {
      "text/plain": [
       "0.8769199531933708"
      ]
     },
     "execution_count": 57,
     "metadata": {},
     "output_type": "execute_result"
    }
   ],
   "source": [
    "lr_confidence"
   ]
  },
  {
   "cell_type": "markdown",
   "metadata": {},
   "source": [
    "<h4>Step 5: Predict using the model</h4>"
   ]
  },
  {
   "cell_type": "code",
   "execution_count": 61,
   "metadata": {},
   "outputs": [
    {
     "data": {
      "text/html": [
       "<div>\n",
       "<style scoped>\n",
       "    .dataframe tbody tr th:only-of-type {\n",
       "        vertical-align: middle;\n",
       "    }\n",
       "\n",
       "    .dataframe tbody tr th {\n",
       "        vertical-align: top;\n",
       "    }\n",
       "\n",
       "    .dataframe thead th {\n",
       "        text-align: right;\n",
       "    }\n",
       "</style>\n",
       "<table border=\"1\" class=\"dataframe\">\n",
       "  <thead>\n",
       "    <tr style=\"text-align: right;\">\n",
       "      <th></th>\n",
       "      <th>Close</th>\n",
       "      <th>Prediction</th>\n",
       "    </tr>\n",
       "  </thead>\n",
       "  <tbody>\n",
       "    <tr>\n",
       "      <th>3644</th>\n",
       "      <td>59.81</td>\n",
       "      <td>35.790000</td>\n",
       "    </tr>\n",
       "    <tr>\n",
       "      <th>3645</th>\n",
       "      <td>58.29</td>\n",
       "      <td>56.793929</td>\n",
       "    </tr>\n",
       "    <tr>\n",
       "      <th>3646</th>\n",
       "      <td>58.16</td>\n",
       "      <td>56.673963</td>\n",
       "    </tr>\n",
       "    <tr>\n",
       "      <th>3647</th>\n",
       "      <td>54.45</td>\n",
       "      <td>53.336315</td>\n",
       "    </tr>\n",
       "    <tr>\n",
       "      <th>3648</th>\n",
       "      <td>53.96</td>\n",
       "      <td>52.908608</td>\n",
       "    </tr>\n",
       "    <tr>\n",
       "      <th>3649</th>\n",
       "      <td>55.28</td>\n",
       "      <td>54.068023</td>\n",
       "    </tr>\n",
       "    <tr>\n",
       "      <th>3650</th>\n",
       "      <td>54.93</td>\n",
       "      <td>53.758376</td>\n",
       "    </tr>\n",
       "    <tr>\n",
       "      <th>3651</th>\n",
       "      <td>54.47</td>\n",
       "      <td>53.353840</td>\n",
       "    </tr>\n",
       "    <tr>\n",
       "      <th>3652</th>\n",
       "      <td>53.27</td>\n",
       "      <td>52.311820</td>\n",
       "    </tr>\n",
       "    <tr>\n",
       "      <th>3653</th>\n",
       "      <td>54.01</td>\n",
       "      <td>52.952104</td>\n",
       "    </tr>\n",
       "    <tr>\n",
       "      <th>3654</th>\n",
       "      <td>55.79</td>\n",
       "      <td>54.522037</td>\n",
       "    </tr>\n",
       "    <tr>\n",
       "      <th>3655</th>\n",
       "      <td>56.34</td>\n",
       "      <td>55.015337</td>\n",
       "    </tr>\n",
       "    <tr>\n",
       "      <th>3656</th>\n",
       "      <td>57.32</td>\n",
       "      <td>55.903531</td>\n",
       "    </tr>\n",
       "    <tr>\n",
       "      <th>3657</th>\n",
       "      <td>57.67</td>\n",
       "      <td>56.223538</td>\n",
       "    </tr>\n",
       "    <tr>\n",
       "      <th>3658</th>\n",
       "      <td>57.75</td>\n",
       "      <td>56.296886</td>\n",
       "    </tr>\n",
       "    <tr>\n",
       "      <th>3659</th>\n",
       "      <td>59.12</td>\n",
       "      <td>57.564393</td>\n",
       "    </tr>\n",
       "    <tr>\n",
       "      <th>3660</th>\n",
       "      <td>59.31</td>\n",
       "      <td>57.741847</td>\n",
       "    </tr>\n",
       "    <tr>\n",
       "      <th>3661</th>\n",
       "      <td>58.50</td>\n",
       "      <td>56.988131</td>\n",
       "    </tr>\n",
       "    <tr>\n",
       "      <th>3662</th>\n",
       "      <td>56.30</td>\n",
       "      <td>54.979334</td>\n",
       "    </tr>\n",
       "    <tr>\n",
       "      <th>3663</th>\n",
       "      <td>54.95</td>\n",
       "      <td>53.776027</td>\n",
       "    </tr>\n",
       "    <tr>\n",
       "      <th>3664</th>\n",
       "      <td>53.43</td>\n",
       "      <td>52.449627</td>\n",
       "    </tr>\n",
       "    <tr>\n",
       "      <th>3665</th>\n",
       "      <td>52.18</td>\n",
       "      <td>51.382496</td>\n",
       "    </tr>\n",
       "    <tr>\n",
       "      <th>3666</th>\n",
       "      <td>50.52</td>\n",
       "      <td>49.999975</td>\n",
       "    </tr>\n",
       "    <tr>\n",
       "      <th>3667</th>\n",
       "      <td>51.90</td>\n",
       "      <td>51.146485</td>\n",
       "    </tr>\n",
       "    <tr>\n",
       "      <th>3668</th>\n",
       "      <td>51.86</td>\n",
       "      <td>51.112861</td>\n",
       "    </tr>\n",
       "    <tr>\n",
       "      <th>3669</th>\n",
       "      <td>51.13</td>\n",
       "      <td>50.503307</td>\n",
       "    </tr>\n",
       "    <tr>\n",
       "      <th>3670</th>\n",
       "      <td>49.99</td>\n",
       "      <td>49.567189</td>\n",
       "    </tr>\n",
       "    <tr>\n",
       "      <th>3671</th>\n",
       "      <td>45.27</td>\n",
       "      <td>45.909756</td>\n",
       "    </tr>\n",
       "    <tr>\n",
       "      <th>3672</th>\n",
       "      <td>34.36</td>\n",
       "      <td>39.009493</td>\n",
       "    </tr>\n",
       "    <tr>\n",
       "      <th>3673</th>\n",
       "      <td>37.22</td>\n",
       "      <td>40.587817</td>\n",
       "    </tr>\n",
       "    <tr>\n",
       "      <th>3674</th>\n",
       "      <td>35.79</td>\n",
       "      <td>39.776845</td>\n",
       "    </tr>\n",
       "  </tbody>\n",
       "</table>\n",
       "</div>"
      ],
      "text/plain": [
       "      Close  Prediction\n",
       "3644  59.81   35.790000\n",
       "3645  58.29   56.793929\n",
       "3646  58.16   56.673963\n",
       "3647  54.45   53.336315\n",
       "3648  53.96   52.908608\n",
       "3649  55.28   54.068023\n",
       "3650  54.93   53.758376\n",
       "3651  54.47   53.353840\n",
       "3652  53.27   52.311820\n",
       "3653  54.01   52.952104\n",
       "3654  55.79   54.522037\n",
       "3655  56.34   55.015337\n",
       "3656  57.32   55.903531\n",
       "3657  57.67   56.223538\n",
       "3658  57.75   56.296886\n",
       "3659  59.12   57.564393\n",
       "3660  59.31   57.741847\n",
       "3661  58.50   56.988131\n",
       "3662  56.30   54.979334\n",
       "3663  54.95   53.776027\n",
       "3664  53.43   52.449627\n",
       "3665  52.18   51.382496\n",
       "3666  50.52   49.999975\n",
       "3667  51.90   51.146485\n",
       "3668  51.86   51.112861\n",
       "3669  51.13   50.503307\n",
       "3670  49.99   49.567189\n",
       "3671  45.27   45.909756\n",
       "3672  34.36   39.009493\n",
       "3673  37.22   40.587817\n",
       "3674  35.79   39.776845"
      ]
     },
     "execution_count": 61,
     "metadata": {},
     "output_type": "execute_result"
    }
   ],
   "source": [
    "# Print the support vector regressor\n",
    "#SVM PREDICTION\n",
    "svm_prediction = svr_rbf.predict(x_forecast)\n",
    "svm_pred = scaled_brent.copy()\n",
    "svm_pred[-30:,1] = svm_prediction\n",
    "svm_result = pd.DataFrame(scaler.inverse_transform(svm_pred),columns=['Close', 'Prediction'])\n",
    "svm_result[-31:]"
   ]
  },
  {
   "cell_type": "code",
   "execution_count": 62,
   "metadata": {},
   "outputs": [
    {
     "data": {
      "text/html": [
       "<div>\n",
       "<style scoped>\n",
       "    .dataframe tbody tr th:only-of-type {\n",
       "        vertical-align: middle;\n",
       "    }\n",
       "\n",
       "    .dataframe tbody tr th {\n",
       "        vertical-align: top;\n",
       "    }\n",
       "\n",
       "    .dataframe thead th {\n",
       "        text-align: right;\n",
       "    }\n",
       "</style>\n",
       "<table border=\"1\" class=\"dataframe\">\n",
       "  <thead>\n",
       "    <tr style=\"text-align: right;\">\n",
       "      <th></th>\n",
       "      <th>Close</th>\n",
       "      <th>Prediction</th>\n",
       "    </tr>\n",
       "  </thead>\n",
       "  <tbody>\n",
       "    <tr>\n",
       "      <th>3644</th>\n",
       "      <td>59.81</td>\n",
       "      <td>35.790000</td>\n",
       "    </tr>\n",
       "    <tr>\n",
       "      <th>3645</th>\n",
       "      <td>58.29</td>\n",
       "      <td>59.431371</td>\n",
       "    </tr>\n",
       "    <tr>\n",
       "      <th>3646</th>\n",
       "      <td>58.16</td>\n",
       "      <td>59.309420</td>\n",
       "    </tr>\n",
       "    <tr>\n",
       "      <th>3647</th>\n",
       "      <td>54.45</td>\n",
       "      <td>55.829110</td>\n",
       "    </tr>\n",
       "    <tr>\n",
       "      <th>3648</th>\n",
       "      <td>53.96</td>\n",
       "      <td>55.369447</td>\n",
       "    </tr>\n",
       "    <tr>\n",
       "      <th>3649</th>\n",
       "      <td>55.28</td>\n",
       "      <td>56.607724</td>\n",
       "    </tr>\n",
       "    <tr>\n",
       "      <th>3650</th>\n",
       "      <td>54.93</td>\n",
       "      <td>56.279393</td>\n",
       "    </tr>\n",
       "    <tr>\n",
       "      <th>3651</th>\n",
       "      <td>54.47</td>\n",
       "      <td>55.847872</td>\n",
       "    </tr>\n",
       "    <tr>\n",
       "      <th>3652</th>\n",
       "      <td>53.27</td>\n",
       "      <td>54.722165</td>\n",
       "    </tr>\n",
       "    <tr>\n",
       "      <th>3653</th>\n",
       "      <td>54.01</td>\n",
       "      <td>55.416351</td>\n",
       "    </tr>\n",
       "    <tr>\n",
       "      <th>3654</th>\n",
       "      <td>55.79</td>\n",
       "      <td>57.086149</td>\n",
       "    </tr>\n",
       "    <tr>\n",
       "      <th>3655</th>\n",
       "      <td>56.34</td>\n",
       "      <td>57.602098</td>\n",
       "    </tr>\n",
       "    <tr>\n",
       "      <th>3656</th>\n",
       "      <td>57.32</td>\n",
       "      <td>58.521425</td>\n",
       "    </tr>\n",
       "    <tr>\n",
       "      <th>3657</th>\n",
       "      <td>57.67</td>\n",
       "      <td>58.849756</td>\n",
       "    </tr>\n",
       "    <tr>\n",
       "      <th>3658</th>\n",
       "      <td>57.75</td>\n",
       "      <td>58.924803</td>\n",
       "    </tr>\n",
       "    <tr>\n",
       "      <th>3659</th>\n",
       "      <td>59.12</td>\n",
       "      <td>60.209985</td>\n",
       "    </tr>\n",
       "    <tr>\n",
       "      <th>3660</th>\n",
       "      <td>59.31</td>\n",
       "      <td>60.388222</td>\n",
       "    </tr>\n",
       "    <tr>\n",
       "      <th>3661</th>\n",
       "      <td>58.50</td>\n",
       "      <td>59.628370</td>\n",
       "    </tr>\n",
       "    <tr>\n",
       "      <th>3662</th>\n",
       "      <td>56.30</td>\n",
       "      <td>57.564574</td>\n",
       "    </tr>\n",
       "    <tr>\n",
       "      <th>3663</th>\n",
       "      <td>54.95</td>\n",
       "      <td>56.298155</td>\n",
       "    </tr>\n",
       "    <tr>\n",
       "      <th>3664</th>\n",
       "      <td>53.43</td>\n",
       "      <td>54.872260</td>\n",
       "    </tr>\n",
       "    <tr>\n",
       "      <th>3665</th>\n",
       "      <td>52.18</td>\n",
       "      <td>53.699649</td>\n",
       "    </tr>\n",
       "    <tr>\n",
       "      <th>3666</th>\n",
       "      <td>50.52</td>\n",
       "      <td>52.142421</td>\n",
       "    </tr>\n",
       "    <tr>\n",
       "      <th>3667</th>\n",
       "      <td>51.90</td>\n",
       "      <td>53.436984</td>\n",
       "    </tr>\n",
       "    <tr>\n",
       "      <th>3668</th>\n",
       "      <td>51.86</td>\n",
       "      <td>53.399460</td>\n",
       "    </tr>\n",
       "    <tr>\n",
       "      <th>3669</th>\n",
       "      <td>51.13</td>\n",
       "      <td>52.714655</td>\n",
       "    </tr>\n",
       "    <tr>\n",
       "      <th>3670</th>\n",
       "      <td>49.99</td>\n",
       "      <td>51.645234</td>\n",
       "    </tr>\n",
       "    <tr>\n",
       "      <th>3671</th>\n",
       "      <td>45.27</td>\n",
       "      <td>47.217455</td>\n",
       "    </tr>\n",
       "    <tr>\n",
       "      <th>3672</th>\n",
       "      <td>34.36</td>\n",
       "      <td>36.982907</td>\n",
       "    </tr>\n",
       "    <tr>\n",
       "      <th>3673</th>\n",
       "      <td>37.22</td>\n",
       "      <td>39.665841</td>\n",
       "    </tr>\n",
       "    <tr>\n",
       "      <th>3674</th>\n",
       "      <td>35.79</td>\n",
       "      <td>38.324374</td>\n",
       "    </tr>\n",
       "  </tbody>\n",
       "</table>\n",
       "</div>"
      ],
      "text/plain": [
       "      Close  Prediction\n",
       "3644  59.81   35.790000\n",
       "3645  58.29   59.431371\n",
       "3646  58.16   59.309420\n",
       "3647  54.45   55.829110\n",
       "3648  53.96   55.369447\n",
       "3649  55.28   56.607724\n",
       "3650  54.93   56.279393\n",
       "3651  54.47   55.847872\n",
       "3652  53.27   54.722165\n",
       "3653  54.01   55.416351\n",
       "3654  55.79   57.086149\n",
       "3655  56.34   57.602098\n",
       "3656  57.32   58.521425\n",
       "3657  57.67   58.849756\n",
       "3658  57.75   58.924803\n",
       "3659  59.12   60.209985\n",
       "3660  59.31   60.388222\n",
       "3661  58.50   59.628370\n",
       "3662  56.30   57.564574\n",
       "3663  54.95   56.298155\n",
       "3664  53.43   54.872260\n",
       "3665  52.18   53.699649\n",
       "3666  50.52   52.142421\n",
       "3667  51.90   53.436984\n",
       "3668  51.86   53.399460\n",
       "3669  51.13   52.714655\n",
       "3670  49.99   51.645234\n",
       "3671  45.27   47.217455\n",
       "3672  34.36   36.982907\n",
       "3673  37.22   39.665841\n",
       "3674  35.79   38.324374"
      ]
     },
     "execution_count": 62,
     "metadata": {},
     "output_type": "execute_result"
    }
   ],
   "source": [
    "#LINEAR REGRESSION PREDICTION\n",
    "x_forecast = np.array([[i[0]] for i in scaled_brent][-30:])\n",
    "lr_prediction = lr.predict(x_forecast)\n",
    "lr_pred = scaled_brent.copy()\n",
    "lr_pred[-30:,1] = lr_prediction\n",
    "lr_result = pd.DataFrame(scaler.inverse_transform(lr_pred),columns=['Close', 'Prediction'])\n",
    "lr_result[-31:]"
   ]
  },
  {
   "cell_type": "code",
   "execution_count": 70,
   "metadata": {},
   "outputs": [
    {
     "data": {
      "image/png": "[encoded data removed]",
      "text/plain": [
       "<Figure size 432x288 with 1 Axes>"
      ]
     },
     "metadata": {
      "needs_background": "light"
     },
     "output_type": "display_data"
    }
   ],
   "source": [
    "plt.plot(brent.index[-30:],svm_prediction)\n",
    "plt.xticks(rotation=70)\n",
    "plt.show()"
   ]
  },
  {
   "cell_type": "code",
   "execution_count": 79,
   "metadata": {},
   "outputs": [
    {
     "data": {
      "text/plain": [
       "array([0.23875803, 0.23773521, 0.20927884, 0.20563226, 0.21551729,\n",
       "       0.21287728, 0.20942826, 0.20054413, 0.20600311, 0.21938815,\n",
       "       0.22359397, 0.2311666 , 0.23389495, 0.2345203 , 0.24532691,\n",
       "       0.24683986, 0.24041377, 0.22328701, 0.21302777, 0.20171905,\n",
       "       0.19262082, 0.18083361, 0.19060862, 0.19032194, 0.18512496,\n",
       "       0.17714374, 0.14596091, 0.08713013, 0.10058673, 0.09367248])"
      ]
     },
     "execution_count": 79,
     "metadata": {},
     "output_type": "execute_result"
    }
   ],
   "source": [
    "svm_prediction"
   ]
  },
  {
   "cell_type": "code",
   "execution_count": 80,
   "metadata": {},
   "outputs": [
    {
     "data": {
      "text/plain": [
       "DatetimeIndex(['2020-01-30', '2020-01-31', '2020-02-03', '2020-02-04',\n",
       "               '2020-02-05', '2020-02-06', '2020-02-07', '2020-02-10',\n",
       "               '2020-02-11', '2020-02-12', '2020-02-13', '2020-02-14',\n",
       "               '2020-02-17', '2020-02-18', '2020-02-19', '2020-02-20',\n",
       "               '2020-02-21', '2020-02-24', '2020-02-25', '2020-02-26',\n",
       "               '2020-02-27', '2020-02-28', '2020-03-02', '2020-03-03',\n",
       "               '2020-03-04', '2020-03-05', '2020-03-06', '2020-03-09',\n",
       "               '2020-03-10', '2020-03-11'],\n",
       "              dtype='datetime64[ns]', name=u'Date', freq=None)"
      ]
     },
     "execution_count": 80,
     "metadata": {},
     "output_type": "execute_result"
    }
   ],
   "source": [
    "brent.index[-30:]"
   ]
  },
  {
   "cell_type": "code",
   "execution_count": 83,
   "metadata": {},
   "outputs": [
    {
     "data": {
      "text/html": [
       "<div>\n",
       "<style scoped>\n",
       "    .dataframe tbody tr th:only-of-type {\n",
       "        vertical-align: middle;\n",
       "    }\n",
       "\n",
       "    .dataframe tbody tr th {\n",
       "        vertical-align: top;\n",
       "    }\n",
       "\n",
       "    .dataframe thead th {\n",
       "        text-align: right;\n",
       "    }\n",
       "</style>\n",
       "<table border=\"1\" class=\"dataframe\">\n",
       "  <thead>\n",
       "    <tr style=\"text-align: right;\">\n",
       "      <th></th>\n",
       "      <th>Close</th>\n",
       "      <th>Prediction</th>\n",
       "    </tr>\n",
       "  </thead>\n",
       "  <tbody>\n",
       "    <tr>\n",
       "      <th>3645</th>\n",
       "      <td>58.29</td>\n",
       "      <td>56.793929</td>\n",
       "    </tr>\n",
       "    <tr>\n",
       "      <th>3646</th>\n",
       "      <td>58.16</td>\n",
       "      <td>56.673963</td>\n",
       "    </tr>\n",
       "    <tr>\n",
       "      <th>3647</th>\n",
       "      <td>54.45</td>\n",
       "      <td>53.336315</td>\n",
       "    </tr>\n",
       "    <tr>\n",
       "      <th>3648</th>\n",
       "      <td>53.96</td>\n",
       "      <td>52.908608</td>\n",
       "    </tr>\n",
       "    <tr>\n",
       "      <th>3649</th>\n",
       "      <td>55.28</td>\n",
       "      <td>54.068023</td>\n",
       "    </tr>\n",
       "    <tr>\n",
       "      <th>3650</th>\n",
       "      <td>54.93</td>\n",
       "      <td>53.758376</td>\n",
       "    </tr>\n",
       "    <tr>\n",
       "      <th>3651</th>\n",
       "      <td>54.47</td>\n",
       "      <td>53.353840</td>\n",
       "    </tr>\n",
       "    <tr>\n",
       "      <th>3652</th>\n",
       "      <td>53.27</td>\n",
       "      <td>52.311820</td>\n",
       "    </tr>\n",
       "    <tr>\n",
       "      <th>3653</th>\n",
       "      <td>54.01</td>\n",
       "      <td>52.952104</td>\n",
       "    </tr>\n",
       "    <tr>\n",
       "      <th>3654</th>\n",
       "      <td>55.79</td>\n",
       "      <td>54.522037</td>\n",
       "    </tr>\n",
       "    <tr>\n",
       "      <th>3655</th>\n",
       "      <td>56.34</td>\n",
       "      <td>55.015337</td>\n",
       "    </tr>\n",
       "    <tr>\n",
       "      <th>3656</th>\n",
       "      <td>57.32</td>\n",
       "      <td>55.903531</td>\n",
       "    </tr>\n",
       "    <tr>\n",
       "      <th>3657</th>\n",
       "      <td>57.67</td>\n",
       "      <td>56.223538</td>\n",
       "    </tr>\n",
       "    <tr>\n",
       "      <th>3658</th>\n",
       "      <td>57.75</td>\n",
       "      <td>56.296886</td>\n",
       "    </tr>\n",
       "    <tr>\n",
       "      <th>3659</th>\n",
       "      <td>59.12</td>\n",
       "      <td>57.564393</td>\n",
       "    </tr>\n",
       "    <tr>\n",
       "      <th>3660</th>\n",
       "      <td>59.31</td>\n",
       "      <td>57.741847</td>\n",
       "    </tr>\n",
       "    <tr>\n",
       "      <th>3661</th>\n",
       "      <td>58.50</td>\n",
       "      <td>56.988131</td>\n",
       "    </tr>\n",
       "    <tr>\n",
       "      <th>3662</th>\n",
       "      <td>56.30</td>\n",
       "      <td>54.979334</td>\n",
       "    </tr>\n",
       "    <tr>\n",
       "      <th>3663</th>\n",
       "      <td>54.95</td>\n",
       "      <td>53.776027</td>\n",
       "    </tr>\n",
       "    <tr>\n",
       "      <th>3664</th>\n",
       "      <td>53.43</td>\n",
       "      <td>52.449627</td>\n",
       "    </tr>\n",
       "    <tr>\n",
       "      <th>3665</th>\n",
       "      <td>52.18</td>\n",
       "      <td>51.382496</td>\n",
       "    </tr>\n",
       "    <tr>\n",
       "      <th>3666</th>\n",
       "      <td>50.52</td>\n",
       "      <td>49.999975</td>\n",
       "    </tr>\n",
       "    <tr>\n",
       "      <th>3667</th>\n",
       "      <td>51.90</td>\n",
       "      <td>51.146485</td>\n",
       "    </tr>\n",
       "    <tr>\n",
       "      <th>3668</th>\n",
       "      <td>51.86</td>\n",
       "      <td>51.112861</td>\n",
       "    </tr>\n",
       "    <tr>\n",
       "      <th>3669</th>\n",
       "      <td>51.13</td>\n",
       "      <td>50.503307</td>\n",
       "    </tr>\n",
       "    <tr>\n",
       "      <th>3670</th>\n",
       "      <td>49.99</td>\n",
       "      <td>49.567189</td>\n",
       "    </tr>\n",
       "    <tr>\n",
       "      <th>3671</th>\n",
       "      <td>45.27</td>\n",
       "      <td>45.909756</td>\n",
       "    </tr>\n",
       "    <tr>\n",
       "      <th>3672</th>\n",
       "      <td>34.36</td>\n",
       "      <td>39.009493</td>\n",
       "    </tr>\n",
       "    <tr>\n",
       "      <th>3673</th>\n",
       "      <td>37.22</td>\n",
       "      <td>40.587817</td>\n",
       "    </tr>\n",
       "    <tr>\n",
       "      <th>3674</th>\n",
       "      <td>35.79</td>\n",
       "      <td>39.776845</td>\n",
       "    </tr>\n",
       "  </tbody>\n",
       "</table>\n",
       "</div>"
      ],
      "text/plain": [
       "      Close  Prediction\n",
       "3645  58.29   56.793929\n",
       "3646  58.16   56.673963\n",
       "3647  54.45   53.336315\n",
       "3648  53.96   52.908608\n",
       "3649  55.28   54.068023\n",
       "3650  54.93   53.758376\n",
       "3651  54.47   53.353840\n",
       "3652  53.27   52.311820\n",
       "3653  54.01   52.952104\n",
       "3654  55.79   54.522037\n",
       "3655  56.34   55.015337\n",
       "3656  57.32   55.903531\n",
       "3657  57.67   56.223538\n",
       "3658  57.75   56.296886\n",
       "3659  59.12   57.564393\n",
       "3660  59.31   57.741847\n",
       "3661  58.50   56.988131\n",
       "3662  56.30   54.979334\n",
       "3663  54.95   53.776027\n",
       "3664  53.43   52.449627\n",
       "3665  52.18   51.382496\n",
       "3666  50.52   49.999975\n",
       "3667  51.90   51.146485\n",
       "3668  51.86   51.112861\n",
       "3669  51.13   50.503307\n",
       "3670  49.99   49.567189\n",
       "3671  45.27   45.909756\n",
       "3672  34.36   39.009493\n",
       "3673  37.22   40.587817\n",
       "3674  35.79   39.776845"
      ]
     },
     "execution_count": 83,
     "metadata": {},
     "output_type": "execute_result"
    }
   ],
   "source": [
    "svm_result[-30:]"
   ]
  },
  {
   "cell_type": "code",
   "execution_count": 129,
   "metadata": {},
   "outputs": [
    {
     "data": {
      "image/png": "[encoded data removed]",
      "text/plain": [
       "<Figure size 432x288 with 1 Axes>"
      ]
     },
     "metadata": {},
     "output_type": "display_data"
    }
   ],
   "source": [
    "plt.plot(brent.index[-30:],lr_prediction)\n",
    "plt.xticks(rotation=70)\n",
    "plt.show()"
   ]
  },
  {
   "cell_type": "code",
   "execution_count": 133,
   "metadata": {},
   "outputs": [
    {
     "data": {
      "image/png": "[encoded data removed]",
      "text/plain": [
       "<Figure size 432x288 with 1 Axes>"
      ]
     },
     "metadata": {},
     "output_type": "display_data"
    }
   ],
   "source": [
    "import matplotlib.pyplot as plt\n",
    "\n",
    "X = svm_result[[\"Close\",\"Prediction\"]]\n",
    "#Visualise data points\n",
    "plt.scatter(X[\"Close\"],X[\"Prediction\"],alpha=0.2,c='black',s=10)\n",
    "plt.xlabel('Close')\n",
    "plt.ylabel('Prediction')\n",
    "plt.show()"
   ]
  },
  {
   "cell_type": "code",
   "execution_count": 135,
   "metadata": {},
   "outputs": [
    {
     "data": {
      "image/png": "[encoded data removed]",
      "text/plain": [
       "<Figure size 432x288 with 1 Axes>"
      ]
     },
     "metadata": {},
     "output_type": "display_data"
    }
   ],
   "source": [
    "plt.plot(brent.index[:],svm_result[\"Prediction\"],marker='o', markerfacecolor='blue', markersize=1, color='blue', linewidth=2)\n",
    "plt.plot(brent.index[:],svm_result[\"Close\"],marker='x', markerfacecolor='red', markersize=1, color='red', linewidth=2)\n",
    "\n",
    "plt.xlabel('Date/Year')\n",
    "# Set the y axis label of the current axis.\n",
    "plt.ylabel('Price')\n",
    "# Set a title of the current axes.\n",
    "plt.title('SVM RESULT CLOSE VS PREDICTION')\n",
    "# show a legend on the plot\n",
    "plt.legend()\n",
    "# Display a figure.\n",
    "plt.show()"
   ]
  },
  {
   "cell_type": "code",
   "execution_count": 134,
   "metadata": {},
   "outputs": [
    {
     "data": {
      "image/png": "[encoded data removed]",
      "text/plain": [
       "<Figure size 432x288 with 1 Axes>"
      ]
     },
     "metadata": {},
     "output_type": "display_data"
    }
   ],
   "source": [
    "plt.plot(brent.index[:],lr_result[\"Prediction\"],marker='', markerfacecolor='orange', markersize=1, color='yellow', linewidth=1)\n",
    "plt.plot(brent.index[:],lr_result[\"Close\"],marker='x', markerfacecolor='green', markersize=1, color='green', linewidth=1)\n",
    "\n",
    "\n",
    "plt.xlabel('Date/Year')\n",
    "# Set the y axis label of the current axis.\n",
    "plt.ylabel('Price')\n",
    "# Set a title of the current axes.\n",
    "plt.title('LINEAR REGRESSION RESULT CLOSE VS PREDICTION')\n",
    "# show a legend on the plot\n",
    "plt.legend()\n",
    "# Display a figure.\n",
    "plt.show()"
   ]
  },
  {
   "cell_type": "code",
   "execution_count": null,
   "metadata": {},
   "outputs": [],
   "source": []
  }
 ],
 "metadata": {
  "kernelspec": {
   "display_name": "Python 2",
   "language": "python",
   "name": "python2"
  },
  "language_info": {
   "codemirror_mode": {
    "name": "ipython",
    "version": 2
   },
   "file_extension": ".py",
   "mimetype": "text/x-python",
   "name": "python",
   "nbconvert_exporter": "python",
   "pygments_lexer": "ipython2",
   "version": "2.7.16"
  }
 },
 "nbformat": 4,
 "nbformat_minor": 2
}
